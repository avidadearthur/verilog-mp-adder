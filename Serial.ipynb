{
 "cells": [
  {
   "cell_type": "code",
   "execution_count": 1,
   "id": "2ae571cd",
   "metadata": {},
   "outputs": [
    {
     "name": "stdout",
     "output_type": "stream",
     "text": [
      "COM5 - USB Serial Port (COM5)\n",
      "COM18 - USB-SERIAL CH340 (COM18)\n"
     ]
    }
   ],
   "source": [
    "import serial.tools.list_ports\n",
    "ports = list(serial.tools.list_ports.comports())\n",
    "for p in ports:\n",
    "    print(p)"
   ]
  },
  {
   "cell_type": "code",
   "execution_count": 2,
   "id": "1c768497",
   "metadata": {},
   "outputs": [],
   "source": [
    "import serial\n",
    "ser = serial.Serial('COM18', 115200, timeout=10)"
   ]
  },
  {
   "cell_type": "code",
   "execution_count": 3,
   "id": "a38c8756",
   "metadata": {},
   "outputs": [
    {
     "name": "stdout",
     "output_type": "stream",
     "text": [
      "A     =  0xf5acec0cce0cada66aaebbe829e227e4174328732651a72dccc709100dc97687cbeb083864cb0de022840ee6d3f9573f118c9834e44900e49848baac6c78ddbb\n",
      "B     =  0xc1fc1d2058bd6f79ba23314316ccb12fcddb809b06e18b4f784adc287e38aaabd74cc927ced876558184f152ceb914e9e2dab381b6aed3173eab0d41c12fe65b\n",
      "A + B =  0x1b7a9092d26ca1d2024d1ed2b40aed913e51ea90e2d33327d4511e5388c022133a337d16033a38435a4090039a2b26c28f4674bb69af7d3fbd6f3c7ee2da8c416\n",
      "A - B =  0x33b0ceec754f3e2cb08b8aa5131576b44967a7d81f701bde547c2ce78f90cbdbf49e3f1095f2978aa0ff1d94054042552eb1e4b32d9a2dcd599dad6aab48f760\n"
     ]
    }
   ],
   "source": [
    "import random\n",
    "import time\n",
    "\n",
    "OPERAND_WIDTH = 512\n",
    "\n",
    "N_BYTES = int(OPERAND_WIDTH/8)\n",
    "\n",
    "A = random.randrange(2**(OPERAND_WIDTH-1), 2**OPERAND_WIDTH-1)\n",
    "B = random.randrange(2**(OPERAND_WIDTH-1), 2**OPERAND_WIDTH-1)\n",
    "\n",
    "if A < B:\n",
    "    A, B = B, A\n",
    "\n",
    "resAdd = A + B\n",
    "resSub = A - B\n",
    "\n",
    "print(\"A     = \", hex(A))\n",
    "print(\"B     = \", hex(B))\n",
    "print(\"A + B = \", hex(resAdd))\n",
    "print(\"A - B = \", hex(resSub))\n",
    "\n",
    "A_bytes = bytearray.fromhex(format(A, 'x'))\n",
    "B_bytes = bytearray.fromhex(format(B, 'x'))"
   ]
  },
  {
   "cell_type": "code",
   "execution_count": 4,
   "id": "1ba79c63",
   "metadata": {},
   "outputs": [
    {
     "name": "stdout",
     "output_type": "stream",
     "text": [
      "Result received correctly!\n",
      "Expected   =  0x1b7a9092d26ca1d2024d1ed2b40aed913e51ea90e2d33327d4511e5388c022133a337d16033a38435a4090039a2b26c28f4674bb69af7d3fbd6f3c7ee2da8c416\n",
      "Received   =  0x1b7a9092d26ca1d2024d1ed2b40aed913e51ea90e2d33327d4511e5388c022133a337d16033a38435a4090039a2b26c28f4674bb69af7d3fbd6f3c7ee2da8c416\n"
     ]
    }
   ],
   "source": [
    "command = 0x00\n",
    "ser.write(bytes([command]))\n",
    "time.sleep(0.001)\n",
    "\n",
    "for op_byte in A_bytes:\n",
    "    hex_byte = (\"{0:02x}\".format(op_byte))\n",
    "    ser.write(bytearray.fromhex(hex_byte))\n",
    "    time.sleep(0.001)\n",
    "\n",
    "for op_byte in B_bytes:\n",
    "    hex_byte = (\"{0:02x}\".format(op_byte))\n",
    "    ser.write(bytearray.fromhex(hex_byte))\n",
    "    time.sleep(0.001)\n",
    "\n",
    "res_rcvd = ser.read(N_BYTES+1) \n",
    "\n",
    "res2 = int.from_bytes(res_rcvd, \"big\")\n",
    "\n",
    "if res2==resAdd:\n",
    "    print(\"Result received correctly!\")\n",
    "    print(\"Expected   = \", hex(resAdd))\n",
    "    print(\"Received   = \", hex(res2))\n",
    "else:\n",
    "    print(\"Result INCORRECT!\")\n",
    "    print(\"Expected   = \", hex(resAdd))\n",
    "    print(\"Received   = \", hex(res2))\n",
    "    print(\"Offset   = \", hex(res2-resAdd))"
   ]
  },
  {
   "cell_type": "code",
   "execution_count": 5,
   "id": "d8c89bf1",
   "metadata": {},
   "outputs": [
    {
     "name": "stdout",
     "output_type": "stream",
     "text": [
      "Result received correctly!\n",
      "Expected   =  0x33b0ceec754f3e2cb08b8aa5131576b44967a7d81f701bde547c2ce78f90cbdbf49e3f1095f2978aa0ff1d94054042552eb1e4b32d9a2dcd599dad6aab48f760\n",
      "Received   =  0x33b0ceec754f3e2cb08b8aa5131576b44967a7d81f701bde547c2ce78f90cbdbf49e3f1095f2978aa0ff1d94054042552eb1e4b32d9a2dcd599dad6aab48f760\n"
     ]
    }
   ],
   "source": [
    "command = 0x01\n",
    "ser.write(bytes([command]))\n",
    "time.sleep(0.001)\n",
    "\n",
    "for op_byte in A_bytes:\n",
    "    hex_byte = (\"{0:02x}\".format(op_byte))\n",
    "    ser.write(bytearray.fromhex(hex_byte))\n",
    "    time.sleep(0.001)\n",
    "\n",
    "for op_byte in B_bytes:\n",
    "    hex_byte = (\"{0:02x}\".format(op_byte))\n",
    "    ser.write(bytearray.fromhex(hex_byte))\n",
    "    time.sleep(0.001)\n",
    "\n",
    "res_rcvd = ser.read(N_BYTES+1) \n",
    "\n",
    "res2 = int.from_bytes(res_rcvd, \"big\")\n",
    "\n",
    "if res2==resSub:\n",
    "    print(\"Result received correctly!\")\n",
    "    print(\"Expected   = \", hex(resSub))\n",
    "    print(\"Received   = \", hex(res2))\n",
    "else:\n",
    "    print(\"Result INCORRECT!\")\n",
    "    print(\"Expected   = \", hex(resSub))\n",
    "    print(\"Received   = \", hex(res2))\n",
    "    print(\"Offset   = \", hex(res2-resSub))"
   ]
  },
  {
   "cell_type": "code",
   "execution_count": 6,
   "id": "389bf26c",
   "metadata": {},
   "outputs": [
    {
     "name": "stdout",
     "output_type": "stream",
     "text": [
      "A     =  0xfa67e20a2cd95b8c0577a1db97c81b828b0f086cf6456c0f33b04e85ebac01d7\n",
      "B     =  0xb3a35edbfee58bcb5b9943c9cfd452181538f37ad4d8c77e2fd559727c183197\n",
      "A * B =  0xafb66ffb5f083e84fcd73f90e87fc11ee8414f36779fc1050985c67cb8fdab02c8f7ad2dfa04c55b82b2cd6c7522adc13e54525594181e4436daecdc3ef73cd1\n"
     ]
    }
   ],
   "source": [
    "OPERAND_WIDTH = 256\n",
    "\n",
    "N_BYTES = int(OPERAND_WIDTH/8)\n",
    "\n",
    "A = random.randrange(2**(OPERAND_WIDTH-1), 2**OPERAND_WIDTH-1)\n",
    "B = random.randrange(2**(OPERAND_WIDTH-1), 2**OPERAND_WIDTH-1)\n",
    "\n",
    "resMul = A * B\n",
    "\n",
    "print(\"A     = \", hex(A))\n",
    "print(\"B     = \", hex(B))\n",
    "print(\"A * B = \", hex(resMul))\n",
    "\n",
    "A_bytes = bytearray.fromhex(format(A, 'x'))\n",
    "B_bytes = bytearray.fromhex(format(B, 'x'))"
   ]
  },
  {
   "cell_type": "code",
   "execution_count": 7,
   "id": "f497442c",
   "metadata": {},
   "outputs": [
    {
     "name": "stdout",
     "output_type": "stream",
     "text": [
      "Result received correctly!\n",
      "Expected   =  0xafb66ffb5f083e84fcd73f90e87fc11ee8414f36779fc1050985c67cb8fdab02c8f7ad2dfa04c55b82b2cd6c7522adc13e54525594181e4436daecdc3ef73cd1\n",
      "Received   =  0xafb66ffb5f083e84fcd73f90e87fc11ee8414f36779fc1050985c67cb8fdab02c8f7ad2dfa04c55b82b2cd6c7522adc13e54525594181e4436daecdc3ef73cd1\n"
     ]
    }
   ],
   "source": [
    "command = 0x02\n",
    "ser.write(bytes([command]))\n",
    "time.sleep(0.001)\n",
    "\n",
    "for op_byte in A_bytes:\n",
    "    hex_byte = (\"{0:02x}\".format(op_byte))\n",
    "    ser.write(bytearray.fromhex(hex_byte))\n",
    "    time.sleep(0.001)\n",
    "\n",
    "for op_byte in B_bytes:\n",
    "    hex_byte = (\"{0:02x}\".format(op_byte))\n",
    "    ser.write(bytearray.fromhex(hex_byte))\n",
    "    time.sleep(0.001)\n",
    "\n",
    "res_rcvd = ser.read(N_BYTES*2) \n",
    "\n",
    "res2 = int.from_bytes(res_rcvd, \"big\")\n",
    "\n",
    "if res2==resMul:\n",
    "    print(\"Result received correctly!\")\n",
    "    print(\"Expected   = \", hex(resMul))\n",
    "    print(\"Received   = \", hex(res2))\n",
    "else:\n",
    "    print(\"Result INCORRECT!\")\n",
    "    print(\"Expected   = \", hex(resMul))\n",
    "    print(\"Received   = \", hex(res2))"
   ]
  },
  {
   "cell_type": "code",
   "execution_count": 8,
   "id": "35e3817f",
   "metadata": {},
   "outputs": [],
   "source": [
    "ser.close()\n"
   ]
  },
  {
   "cell_type": "code",
   "execution_count": null,
   "id": "35dc7e01",
   "metadata": {},
   "outputs": [],
   "source": []
  }
 ],
 "metadata": {
  "kernelspec": {
   "display_name": "Python 3 (ipykernel)",
   "language": "python",
   "name": "python3"
  },
  "language_info": {
   "codemirror_mode": {
    "name": "ipython",
    "version": 3
   },
   "file_extension": ".py",
   "mimetype": "text/x-python",
   "name": "python",
   "nbconvert_exporter": "python",
   "pygments_lexer": "ipython3",
   "version": "3.9.7"
  }
 },
 "nbformat": 4,
 "nbformat_minor": 5
}
